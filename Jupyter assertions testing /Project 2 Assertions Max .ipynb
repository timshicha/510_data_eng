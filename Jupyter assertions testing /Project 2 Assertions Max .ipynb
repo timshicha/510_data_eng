{
 "cells": [
  {
   "attachments": {},
   "cell_type": "markdown",
   "id": "8be3be4a",
   "metadata": {},
   "source": [
    "# Validations:  "
   ]
  },
  {
   "cell_type": "code",
   "execution_count": 26,
   "id": "79246269",
   "metadata": {},
   "outputs": [
    {
     "name": "stdout",
     "output_type": "stream",
     "text": [
      "No NaN/empty values found\n"
     ]
    }
   ],
   "source": [
    "# 1. There are no 0/NaN values (each row has all values)\n",
    "\n",
    "notna = df.notna()\n",
    "if False in notna: \n",
    "    print ('False')\n",
    "else: \n",
    "    print (\"No NaN/empty values found\")"
   ]
  },
  {
   "cell_type": "code",
   "execution_count": 47,
   "id": "8f4509ad",
   "metadata": {},
   "outputs": [],
   "source": [
    "# 2. Date should be one day: once timestamp configed check that date is same day\n"
   ]
  },
  {
   "cell_type": "code",
   "execution_count": null,
   "id": "71695236",
   "metadata": {},
   "outputs": [],
   "source": [
    "# 3. A trip should have a trip number as well as a vehicle number. \n",
    "# The code for #1 should cover this "
   ]
  },
  {
   "cell_type": "code",
   "execution_count": 30,
   "id": "5ecf2315",
   "metadata": {},
   "outputs": [
    {
     "data": {
      "text/plain": [
       "5751"
      ]
     },
     "execution_count": 30,
     "metadata": {},
     "output_type": "execute_result"
    }
   ],
   "source": [
    "# 4. Every same trip number should have the same vehicle number \n",
    "# trips = df.groupby(['EVENT_NO_TRIP']).mean()\n",
    "trips = df['EVENT_NO_TRIP'].unique()\n",
    "trips.size\n"
   ]
  },
  {
   "cell_type": "code",
   "execution_count": 27,
   "id": "85e4679b",
   "metadata": {},
   "outputs": [
    {
     "data": {
      "text/plain": [
       "216463"
      ]
     },
     "execution_count": 27,
     "metadata": {},
     "output_type": "execute_result"
    }
   ],
   "source": [
    "# 5. There are a few millions records daily but not more (>5mil = alarm)\n",
    "df['EVENT_NO_TRIP'].size"
   ]
  },
  {
   "cell_type": "code",
   "execution_count": 29,
   "id": "3070d73e",
   "metadata": {},
   "outputs": [
    {
     "data": {
      "text/plain": [
       "1"
      ]
     },
     "execution_count": 29,
     "metadata": {},
     "output_type": "execute_result"
    }
   ],
   "source": [
    "# 6. The date should always be the same in every row \n",
    "date = df['OPD_DATE'].unique()\n",
    "date.size"
   ]
  },
  {
   "cell_type": "code",
   "execution_count": null,
   "id": "47e5e6d6",
   "metadata": {},
   "outputs": [],
   "source": [
    "# 7. The velocity should conform to a (normal?) distribution - max/min/mean speeds \n",
    "# Can't do without transformation"
   ]
  },
  {
   "attachments": {},
   "cell_type": "markdown",
   "id": "d527d802",
   "metadata": {},
   "source": [
    "# Transformation -> SQL tables"
   ]
  },
  {
   "cell_type": "code",
   "execution_count": null,
   "id": "66466ced",
   "metadata": {},
   "outputs": [],
   "source": [
    "# df['c']=df['b'].apply(lambda x: 0 if x ==0 else math.log(x))"
   ]
  },
  {
   "cell_type": "code",
   "execution_count": 4,
   "id": "ebc95a3e",
   "metadata": {},
   "outputs": [
    {
     "ename": "NameError",
     "evalue": "name 'math' is not defined",
     "output_type": "error",
     "traceback": [
      "\u001b[1;31m---------------------------------------------------------------------------\u001b[0m",
      "\u001b[1;31mNameError\u001b[0m                                 Traceback (most recent call last)",
      "Cell \u001b[1;32mIn[4], line 43\u001b[0m\n\u001b[0;32m     40\u001b[0m     prev_no_trip \u001b[39m=\u001b[39m current_no_trip\n\u001b[0;32m     41\u001b[0m   \u001b[39mreturn\u001b[39;00m df\u001b[39m.\u001b[39mdrop(columns\u001b[39m=\u001b[39m[\u001b[39m'\u001b[39m\u001b[39mdMETERS\u001b[39m\u001b[39m'\u001b[39m, \u001b[39m'\u001b[39m\u001b[39mdTIMESTAMP\u001b[39m\u001b[39m'\u001b[39m])\n\u001b[1;32m---> 43\u001b[0m df \u001b[39m=\u001b[39m add_speed_column(df)\n\u001b[0;32m     45\u001b[0m df\n",
      "Cell \u001b[1;32mIn[4], line 35\u001b[0m, in \u001b[0;36madd_speed_column\u001b[1;34m(df)\u001b[0m\n\u001b[0;32m     32\u001b[0m current_no_trip \u001b[39m=\u001b[39m df\u001b[39m.\u001b[39miloc[i][\u001b[39m\"\u001b[39m\u001b[39mEVENT_NO_TRIP\u001b[39m\u001b[39m\"\u001b[39m]\n\u001b[0;32m     33\u001b[0m \u001b[39mif\u001b[39;00m(current_no_trip \u001b[39m!=\u001b[39m prev_no_trip):\n\u001b[0;32m     34\u001b[0m   \u001b[39m# Make sure a record exists after and belongs to the same trip\u001b[39;00m\n\u001b[1;32m---> 35\u001b[0m   \u001b[39mif\u001b[39;00m(i \u001b[39m+\u001b[39m \u001b[39m1\u001b[39m \u001b[39m<\u001b[39m \u001b[39mlen\u001b[39m(df) \u001b[39mand\u001b[39;00m df\u001b[39m.\u001b[39miloc[i \u001b[39m+\u001b[39m \u001b[39m1\u001b[39m][\u001b[39m\"\u001b[39m\u001b[39mEVENT_NO_TRIP\u001b[39m\u001b[39m\"\u001b[39m] \u001b[39m==\u001b[39m current_no_trip \u001b[39mand\u001b[39;00m \u001b[39mnot\u001b[39;00m math\u001b[39m.\u001b[39misnan(df\u001b[39m.\u001b[39miloc[i \u001b[39m+\u001b[39m \u001b[39m1\u001b[39m][\u001b[39m\"\u001b[39m\u001b[39mSPEED\u001b[39m\u001b[39m\"\u001b[39m])):\n\u001b[0;32m     36\u001b[0m     df\u001b[39m.\u001b[39mat[i, \u001b[39m\"\u001b[39m\u001b[39mSPEED\u001b[39m\u001b[39m\"\u001b[39m] \u001b[39m=\u001b[39m df\u001b[39m.\u001b[39miloc[i \u001b[39m+\u001b[39m \u001b[39m1\u001b[39m][\u001b[39m\"\u001b[39m\u001b[39mSPEED\u001b[39m\u001b[39m\"\u001b[39m]\n\u001b[0;32m     37\u001b[0m   \u001b[39m# Otherwise, just put 0\u001b[39;00m\n\u001b[0;32m     38\u001b[0m   \u001b[39melse\u001b[39;00m:\n",
      "\u001b[1;31mNameError\u001b[0m: name 'math' is not defined"
     ]
    }
   ],
   "source": [
    "import pandas as pd\n",
    "import sys, math\n",
    "\n",
    "df = pd.read_csv(\"ok.csv\")\n",
    "df = df.drop(columns=['EVENT_NO_STOP', 'GPS_SATELLITES', 'GPS_HDOP'])\n",
    "from datetime import datetime, timedelta\n",
    "\n",
    "def create_timestamp(i):\n",
    "    date = datetime.strptime(i['OPD_DATE'],'%d%b%Y:%H:%M:%S')\n",
    "    time = timedelta(seconds=i['ACT_TIME'])\n",
    "    return date + time \n",
    "    \n",
    "df['TIMESTAMP'] = df.apply(create_timestamp,axis=1)\n",
    "df = df.drop(columns=['OPD_DATE', 'ACT_TIME'])\n",
    "\n",
    "# Code that sets first breadcrumb value to second (not currently for all trips)\n",
    "# df.sort_values(by='EVENT_NO_TRIP', na_position='first')\n",
    "# df.iloc[0,6] = df.iloc[1,6]\n",
    "def add_speed_column(df):\n",
    "  # Calculate speeds using pd diff\n",
    "  def get_speed(row):\n",
    "    return row[\"dMETERS\"] / row[\"dTIMESTAMP\"].total_seconds()\n",
    "\n",
    "  df[\"dMETERS\"] = df[\"METERS\"].diff()\n",
    "  df[\"dTIMESTAMP\"] = df[\"TIMESTAMP\"].diff()\n",
    "  df[\"SPEED\"] = df.apply(get_speed, axis=1)\n",
    "  # df.loc[0, \"SPEED\"] = 0\n",
    "\n",
    "  # Go through each record. Each record that has a new EVENT_NO_TRIP should take the speed from the next record (the second record)\n",
    "  prev_no_trip = -1\n",
    "  for i in range(len(df)):\n",
    "    current_no_trip = df.iloc[i][\"EVENT_NO_TRIP\"]\n",
    "    if(current_no_trip != prev_no_trip):\n",
    "      # Make sure a record exists after and belongs to the same trip\n",
    "      if(i + 1 < len(df) and df.iloc[i + 1][\"EVENT_NO_TRIP\"] == current_no_trip and not math.isnan(df.iloc[i + 1][\"SPEED\"])):\n",
    "        df.at[i, \"SPEED\"] = df.iloc[i + 1][\"SPEED\"]\n",
    "      # Otherwise, just put 0\n",
    "      else:\n",
    "        df.at[i, \"SPEED\"] = 0\n",
    "    prev_no_trip = current_no_trip\n",
    "  return df.drop(columns=['dMETERS', 'dTIMESTAMP'])\n",
    "\n",
    "df = add_speed_column(df)\n",
    "\n",
    "df\n"
   ]
  },
  {
   "attachments": {},
   "cell_type": "markdown",
   "id": "26d4c760",
   "metadata": {},
   "source": [
    "# Transforming DF to SQL param tables: \n",
    "| BreadCrumb      | Trip |\n",
    "| ----------- | ----------- |\n",
    "| tstamp      | trip_id       |\n",
    "| latitude   | route_id        |\n",
    "| longitude   | vehicle_id        |\n",
    "| speed   | service_key        |\n",
    "| trip_id   | direction        |\n"
   ]
  },
  {
   "cell_type": "code",
   "execution_count": 89,
   "id": "7a5f3996",
   "metadata": {},
   "outputs": [
    {
     "data": {
      "text/html": [
       "<div>\n",
       "<style scoped>\n",
       "    .dataframe tbody tr th:only-of-type {\n",
       "        vertical-align: middle;\n",
       "    }\n",
       "\n",
       "    .dataframe tbody tr th {\n",
       "        vertical-align: top;\n",
       "    }\n",
       "\n",
       "    .dataframe thead th {\n",
       "        text-align: right;\n",
       "    }\n",
       "</style>\n",
       "<table border=\"1\" class=\"dataframe\">\n",
       "  <thead>\n",
       "    <tr style=\"text-align: right;\">\n",
       "      <th></th>\n",
       "      <th>tstamp</th>\n",
       "      <th>latitude</th>\n",
       "      <th>longitude</th>\n",
       "      <th>speed</th>\n",
       "      <th>trip_id</th>\n",
       "    </tr>\n",
       "  </thead>\n",
       "  <tbody>\n",
       "    <tr>\n",
       "      <th>0</th>\n",
       "      <td>2023-01-01 09:11:42</td>\n",
       "      <td>45.436270</td>\n",
       "      <td>-122.568135</td>\n",
       "      <td>NaN</td>\n",
       "      <td>229985012</td>\n",
       "    </tr>\n",
       "    <tr>\n",
       "      <th>1</th>\n",
       "      <td>2023-01-01 09:11:46</td>\n",
       "      <td>45.436510</td>\n",
       "      <td>-122.568260</td>\n",
       "      <td>6.750000</td>\n",
       "      <td>229985012</td>\n",
       "    </tr>\n",
       "    <tr>\n",
       "      <th>2</th>\n",
       "      <td>2023-01-01 09:11:52</td>\n",
       "      <td>45.436545</td>\n",
       "      <td>-122.568512</td>\n",
       "      <td>3.166667</td>\n",
       "      <td>229985012</td>\n",
       "    </tr>\n",
       "    <tr>\n",
       "      <th>3</th>\n",
       "      <td>2023-01-01 09:33:52</td>\n",
       "      <td>45.435910</td>\n",
       "      <td>-122.569083</td>\n",
       "      <td>0.131818</td>\n",
       "      <td>229985127</td>\n",
       "    </tr>\n",
       "    <tr>\n",
       "      <th>4</th>\n",
       "      <td>2023-01-01 09:33:57</td>\n",
       "      <td>45.436260</td>\n",
       "      <td>-122.569107</td>\n",
       "      <td>7.600000</td>\n",
       "      <td>229985127</td>\n",
       "    </tr>\n",
       "  </tbody>\n",
       "</table>\n",
       "</div>"
      ],
      "text/plain": [
       "               tstamp   latitude   longitude     speed    trip_id\n",
       "0 2023-01-01 09:11:42  45.436270 -122.568135       NaN  229985012\n",
       "1 2023-01-01 09:11:46  45.436510 -122.568260  6.750000  229985012\n",
       "2 2023-01-01 09:11:52  45.436545 -122.568512  3.166667  229985012\n",
       "3 2023-01-01 09:33:52  45.435910 -122.569083  0.131818  229985127\n",
       "4 2023-01-01 09:33:57  45.436260 -122.569107  7.600000  229985127"
      ]
     },
     "execution_count": 89,
     "metadata": {},
     "output_type": "execute_result"
    }
   ],
   "source": [
    "# df.rename({'Courses': 'Course_ Name','Fee': 'CourseFee', 'Duration': 'CourseDuration'}, \n",
    "#           axis = \"columns\", inplace = True) \n",
    "BreadCrumb = df[['TIMESTAMP','GPS_LATITUDE', 'GPS_LONGITUDE', 'SPEED', 'EVENT_NO_TRIP']].copy()\n",
    "BreadCrumb.rename({'TIMESTAMP': 'tstamp', 'GPS_LATITUDE': 'latitude', 'GPS_LONGITUDE':'longitude', 'SPEED':'speed', 'EVENT_NO_TRIP':'trip_id'}, axis='columns', inplace=True)\n",
    "BreadCrumb.head(5)"
   ]
  },
  {
   "cell_type": "code",
   "execution_count": 93,
   "id": "c6022049",
   "metadata": {},
   "outputs": [
    {
     "data": {
      "text/html": [
       "<div>\n",
       "<style scoped>\n",
       "    .dataframe tbody tr th:only-of-type {\n",
       "        vertical-align: middle;\n",
       "    }\n",
       "\n",
       "    .dataframe tbody tr th {\n",
       "        vertical-align: top;\n",
       "    }\n",
       "\n",
       "    .dataframe thead th {\n",
       "        text-align: right;\n",
       "    }\n",
       "</style>\n",
       "<table border=\"1\" class=\"dataframe\">\n",
       "  <thead>\n",
       "    <tr style=\"text-align: right;\">\n",
       "      <th></th>\n",
       "      <th>trip_id</th>\n",
       "      <th>route_id</th>\n",
       "      <th>vehicle_id</th>\n",
       "      <th>service_key</th>\n",
       "      <th>direction</th>\n",
       "    </tr>\n",
       "  </thead>\n",
       "  <tbody>\n",
       "    <tr>\n",
       "      <th>0</th>\n",
       "      <td>229985012</td>\n",
       "      <td>-1</td>\n",
       "      <td>3058</td>\n",
       "      <td>-1</td>\n",
       "      <td>-1</td>\n",
       "    </tr>\n",
       "    <tr>\n",
       "      <th>1</th>\n",
       "      <td>229985012</td>\n",
       "      <td>-1</td>\n",
       "      <td>3058</td>\n",
       "      <td>-1</td>\n",
       "      <td>-1</td>\n",
       "    </tr>\n",
       "    <tr>\n",
       "      <th>2</th>\n",
       "      <td>229985012</td>\n",
       "      <td>-1</td>\n",
       "      <td>3058</td>\n",
       "      <td>-1</td>\n",
       "      <td>-1</td>\n",
       "    </tr>\n",
       "    <tr>\n",
       "      <th>3</th>\n",
       "      <td>229985127</td>\n",
       "      <td>-1</td>\n",
       "      <td>3058</td>\n",
       "      <td>-1</td>\n",
       "      <td>-1</td>\n",
       "    </tr>\n",
       "    <tr>\n",
       "      <th>4</th>\n",
       "      <td>229985127</td>\n",
       "      <td>-1</td>\n",
       "      <td>3058</td>\n",
       "      <td>-1</td>\n",
       "      <td>-1</td>\n",
       "    </tr>\n",
       "  </tbody>\n",
       "</table>\n",
       "</div>"
      ],
      "text/plain": [
       "     trip_id  route_id  vehicle_id  service_key  direction\n",
       "0  229985012        -1        3058           -1         -1\n",
       "1  229985012        -1        3058           -1         -1\n",
       "2  229985012        -1        3058           -1         -1\n",
       "3  229985127        -1        3058           -1         -1\n",
       "4  229985127        -1        3058           -1         -1"
      ]
     },
     "execution_count": 93,
     "metadata": {},
     "output_type": "execute_result"
    }
   ],
   "source": [
    "Trip = df[['EVENT_NO_TRIP', 'VEHICLE_ID']].copy()\n",
    "Trip.rename({'EVENT_NO_TRIP':'trip_id', 'VEHICLE_ID':'vehicle_id'},axis='columns',inplace=True)\n",
    "Trip.insert(loc=1, column='route_id', value=-1)\n",
    "Trip.insert(loc=3, column='service_key', value=-1)\n",
    "Trip.insert(loc=4, column='direction', value=-1)\n",
    "\n",
    "Trip.head(5)"
   ]
  },
  {
   "cell_type": "code",
   "execution_count": null,
   "id": "f729302a",
   "metadata": {},
   "outputs": [],
   "source": []
  }
 ],
 "metadata": {
  "kernelspec": {
   "display_name": "Python 3 (ipykernel)",
   "language": "python",
   "name": "python3"
  },
  "language_info": {
   "codemirror_mode": {
    "name": "ipython",
    "version": 3
   },
   "file_extension": ".py",
   "mimetype": "text/x-python",
   "name": "python",
   "nbconvert_exporter": "python",
   "pygments_lexer": "ipython3",
   "version": "3.11.0"
  }
 },
 "nbformat": 4,
 "nbformat_minor": 5
}
